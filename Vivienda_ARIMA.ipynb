{
  "cells": [
    {
      "cell_type": "markdown",
      "metadata": {
        "id": "view-in-github",
        "colab_type": "text"
      },
      "source": [
        "<a href=\"https://colab.research.google.com/github/IsaacHR141522/Isaac141522/blob/main/Vivienda_ARIMA.ipynb\" target=\"_parent\"><img src=\"https://colab.research.google.com/assets/colab-badge.svg\" alt=\"Open In Colab\"/></a>"
      ]
    },
    {
      "cell_type": "markdown",
      "source": [
        "## Implementación de un modelo ARIMA en Python para pronosticar precios de vivienda\n",
        "\n",
        "**Pasos para implementar un modelo ARIMA en Python:**\n",
        "\n",
        "**1. Importación de librerías:**"
      ],
      "metadata": {
        "id": "uxUmmu-pd6ia"
      }
    },
    {
      "cell_type": "code",
      "source": [
        "from google.colab import drive\n",
        "drive.mount('/content/drive')"
      ],
      "metadata": {
        "colab": {
          "base_uri": "https://localhost:8080/"
        },
        "id": "P-FIhNqafbU-",
        "outputId": "e19e5270-7e3d-4ee3-8267-edfece0b97c0"
      },
      "execution_count": 2,
      "outputs": [
        {
          "output_type": "stream",
          "name": "stdout",
          "text": [
            "Mounted at /content/drive\n"
          ]
        }
      ]
    },
    {
      "cell_type": "code",
      "source": [
        "import pandas as pd\n",
        "import statsmodels.api as sm\n",
        "from statsmodels.tsa.arima_model import ARIMA"
      ],
      "outputs": [],
      "execution_count": 1,
      "metadata": {
        "id": "PViVYxeXd6ic"
      }
    },
    {
      "cell_type": "markdown",
      "source": [
        "**2. Carga de datos:**"
      ],
      "metadata": {
        "id": "v2oExcmSd6ie"
      }
    },
    {
      "cell_type": "code",
      "source": [
        "# Carga del archivo CSV en un DataFrame de Pandas\n",
        "datos = pd.read_csv(\"/precios_vivienda_shf.csv\")\n",
        "\n",
        "# Selección de la columna de precios\n",
        "precios = datos[\"precio_medio\"]"
      ],
      "outputs": [],
      "execution_count": 5,
      "metadata": {
        "id": "E9U3_b9ld6ie"
      }
    },
    {
      "cell_type": "markdown",
      "source": [
        "**3. Análisis exploratorio de datos:**"
      ],
      "metadata": {
        "id": "O42bNy2Fd6ie"
      }
    },
    {
      "cell_type": "code",
      "source": [
        "# Gráfico de la serie temporal\n",
        "precios.plot()\n",
        "\n",
        "# Estadísticos descriptivos\n",
        "precios.describe()\n",
        "\n",
        "# Identificación de estacionalidad (si existe)\n",
        "precios.plot(kind=\"acf\")\n",
        "precios.plot(kind=\"pacf\")"
      ],
      "outputs": [
        {
          "output_type": "error",
          "ename": "TypeError",
          "evalue": "no numeric data to plot",
          "traceback": [
            "\u001b[0;31m---------------------------------------------------------------------------\u001b[0m",
            "\u001b[0;31mTypeError\u001b[0m                                 Traceback (most recent call last)",
            "\u001b[0;32m<ipython-input-6-d3fd014f3aca>\u001b[0m in \u001b[0;36m<cell line: 2>\u001b[0;34m()\u001b[0m\n\u001b[1;32m      1\u001b[0m \u001b[0;31m# Gráfico de la serie temporal\u001b[0m\u001b[0;34m\u001b[0m\u001b[0;34m\u001b[0m\u001b[0m\n\u001b[0;32m----> 2\u001b[0;31m \u001b[0mprecios\u001b[0m\u001b[0;34m.\u001b[0m\u001b[0mplot\u001b[0m\u001b[0;34m(\u001b[0m\u001b[0;34m)\u001b[0m\u001b[0;34m\u001b[0m\u001b[0;34m\u001b[0m\u001b[0m\n\u001b[0m\u001b[1;32m      3\u001b[0m \u001b[0;34m\u001b[0m\u001b[0m\n\u001b[1;32m      4\u001b[0m \u001b[0;31m# Estadísticos descriptivos\u001b[0m\u001b[0;34m\u001b[0m\u001b[0;34m\u001b[0m\u001b[0m\n\u001b[1;32m      5\u001b[0m \u001b[0mprecios\u001b[0m\u001b[0;34m.\u001b[0m\u001b[0mdescribe\u001b[0m\u001b[0;34m(\u001b[0m\u001b[0;34m)\u001b[0m\u001b[0;34m\u001b[0m\u001b[0;34m\u001b[0m\u001b[0m\n",
            "\u001b[0;32m/usr/local/lib/python3.10/dist-packages/pandas/plotting/_core.py\u001b[0m in \u001b[0;36m__call__\u001b[0;34m(self, *args, **kwargs)\u001b[0m\n\u001b[1;32m    973\u001b[0m                     \u001b[0mdata\u001b[0m\u001b[0;34m.\u001b[0m\u001b[0mcolumns\u001b[0m \u001b[0;34m=\u001b[0m \u001b[0mlabel_name\u001b[0m\u001b[0;34m\u001b[0m\u001b[0;34m\u001b[0m\u001b[0m\n\u001b[1;32m    974\u001b[0m \u001b[0;34m\u001b[0m\u001b[0m\n\u001b[0;32m--> 975\u001b[0;31m         \u001b[0;32mreturn\u001b[0m \u001b[0mplot_backend\u001b[0m\u001b[0;34m.\u001b[0m\u001b[0mplot\u001b[0m\u001b[0;34m(\u001b[0m\u001b[0mdata\u001b[0m\u001b[0;34m,\u001b[0m \u001b[0mkind\u001b[0m\u001b[0;34m=\u001b[0m\u001b[0mkind\u001b[0m\u001b[0;34m,\u001b[0m \u001b[0;34m**\u001b[0m\u001b[0mkwargs\u001b[0m\u001b[0;34m)\u001b[0m\u001b[0;34m\u001b[0m\u001b[0;34m\u001b[0m\u001b[0m\n\u001b[0m\u001b[1;32m    976\u001b[0m \u001b[0;34m\u001b[0m\u001b[0m\n\u001b[1;32m    977\u001b[0m     \u001b[0m__call__\u001b[0m\u001b[0;34m.\u001b[0m\u001b[0m__doc__\u001b[0m \u001b[0;34m=\u001b[0m \u001b[0m__doc__\u001b[0m\u001b[0;34m\u001b[0m\u001b[0;34m\u001b[0m\u001b[0m\n",
            "\u001b[0;32m/usr/local/lib/python3.10/dist-packages/pandas/plotting/_matplotlib/__init__.py\u001b[0m in \u001b[0;36mplot\u001b[0;34m(data, kind, **kwargs)\u001b[0m\n\u001b[1;32m     69\u001b[0m             \u001b[0mkwargs\u001b[0m\u001b[0;34m[\u001b[0m\u001b[0;34m\"ax\"\u001b[0m\u001b[0;34m]\u001b[0m \u001b[0;34m=\u001b[0m \u001b[0mgetattr\u001b[0m\u001b[0;34m(\u001b[0m\u001b[0max\u001b[0m\u001b[0;34m,\u001b[0m \u001b[0;34m\"left_ax\"\u001b[0m\u001b[0;34m,\u001b[0m \u001b[0max\u001b[0m\u001b[0;34m)\u001b[0m\u001b[0;34m\u001b[0m\u001b[0;34m\u001b[0m\u001b[0m\n\u001b[1;32m     70\u001b[0m     \u001b[0mplot_obj\u001b[0m \u001b[0;34m=\u001b[0m \u001b[0mPLOT_CLASSES\u001b[0m\u001b[0;34m[\u001b[0m\u001b[0mkind\u001b[0m\u001b[0;34m]\u001b[0m\u001b[0;34m(\u001b[0m\u001b[0mdata\u001b[0m\u001b[0;34m,\u001b[0m \u001b[0;34m**\u001b[0m\u001b[0mkwargs\u001b[0m\u001b[0;34m)\u001b[0m\u001b[0;34m\u001b[0m\u001b[0;34m\u001b[0m\u001b[0m\n\u001b[0;32m---> 71\u001b[0;31m     \u001b[0mplot_obj\u001b[0m\u001b[0;34m.\u001b[0m\u001b[0mgenerate\u001b[0m\u001b[0;34m(\u001b[0m\u001b[0;34m)\u001b[0m\u001b[0;34m\u001b[0m\u001b[0;34m\u001b[0m\u001b[0m\n\u001b[0m\u001b[1;32m     72\u001b[0m     \u001b[0mplot_obj\u001b[0m\u001b[0;34m.\u001b[0m\u001b[0mdraw\u001b[0m\u001b[0;34m(\u001b[0m\u001b[0;34m)\u001b[0m\u001b[0;34m\u001b[0m\u001b[0;34m\u001b[0m\u001b[0m\n\u001b[1;32m     73\u001b[0m     \u001b[0;32mreturn\u001b[0m \u001b[0mplot_obj\u001b[0m\u001b[0;34m.\u001b[0m\u001b[0mresult\u001b[0m\u001b[0;34m\u001b[0m\u001b[0;34m\u001b[0m\u001b[0m\n",
            "\u001b[0;32m/usr/local/lib/python3.10/dist-packages/pandas/plotting/_matplotlib/core.py\u001b[0m in \u001b[0;36mgenerate\u001b[0;34m(self)\u001b[0m\n\u001b[1;32m    444\u001b[0m     \u001b[0;32mdef\u001b[0m \u001b[0mgenerate\u001b[0m\u001b[0;34m(\u001b[0m\u001b[0mself\u001b[0m\u001b[0;34m)\u001b[0m \u001b[0;34m->\u001b[0m \u001b[0;32mNone\u001b[0m\u001b[0;34m:\u001b[0m\u001b[0;34m\u001b[0m\u001b[0;34m\u001b[0m\u001b[0m\n\u001b[1;32m    445\u001b[0m         \u001b[0mself\u001b[0m\u001b[0;34m.\u001b[0m\u001b[0m_args_adjust\u001b[0m\u001b[0;34m(\u001b[0m\u001b[0;34m)\u001b[0m\u001b[0;34m\u001b[0m\u001b[0;34m\u001b[0m\u001b[0m\n\u001b[0;32m--> 446\u001b[0;31m         \u001b[0mself\u001b[0m\u001b[0;34m.\u001b[0m\u001b[0m_compute_plot_data\u001b[0m\u001b[0;34m(\u001b[0m\u001b[0;34m)\u001b[0m\u001b[0;34m\u001b[0m\u001b[0;34m\u001b[0m\u001b[0m\n\u001b[0m\u001b[1;32m    447\u001b[0m         \u001b[0mself\u001b[0m\u001b[0;34m.\u001b[0m\u001b[0m_setup_subplots\u001b[0m\u001b[0;34m(\u001b[0m\u001b[0;34m)\u001b[0m\u001b[0;34m\u001b[0m\u001b[0;34m\u001b[0m\u001b[0m\n\u001b[1;32m    448\u001b[0m         \u001b[0mself\u001b[0m\u001b[0;34m.\u001b[0m\u001b[0m_make_plot\u001b[0m\u001b[0;34m(\u001b[0m\u001b[0;34m)\u001b[0m\u001b[0;34m\u001b[0m\u001b[0;34m\u001b[0m\u001b[0m\n",
            "\u001b[0;32m/usr/local/lib/python3.10/dist-packages/pandas/plotting/_matplotlib/core.py\u001b[0m in \u001b[0;36m_compute_plot_data\u001b[0;34m(self)\u001b[0m\n\u001b[1;32m    630\u001b[0m         \u001b[0;31m# no non-numeric frames or series allowed\u001b[0m\u001b[0;34m\u001b[0m\u001b[0;34m\u001b[0m\u001b[0m\n\u001b[1;32m    631\u001b[0m         \u001b[0;32mif\u001b[0m \u001b[0mis_empty\u001b[0m\u001b[0;34m:\u001b[0m\u001b[0;34m\u001b[0m\u001b[0;34m\u001b[0m\u001b[0m\n\u001b[0;32m--> 632\u001b[0;31m             \u001b[0;32mraise\u001b[0m \u001b[0mTypeError\u001b[0m\u001b[0;34m(\u001b[0m\u001b[0;34m\"no numeric data to plot\"\u001b[0m\u001b[0;34m)\u001b[0m\u001b[0;34m\u001b[0m\u001b[0;34m\u001b[0m\u001b[0m\n\u001b[0m\u001b[1;32m    633\u001b[0m \u001b[0;34m\u001b[0m\u001b[0m\n\u001b[1;32m    634\u001b[0m         \u001b[0mself\u001b[0m\u001b[0;34m.\u001b[0m\u001b[0mdata\u001b[0m \u001b[0;34m=\u001b[0m \u001b[0mnumeric_data\u001b[0m\u001b[0;34m.\u001b[0m\u001b[0mapply\u001b[0m\u001b[0;34m(\u001b[0m\u001b[0mself\u001b[0m\u001b[0;34m.\u001b[0m\u001b[0m_convert_to_ndarray\u001b[0m\u001b[0;34m)\u001b[0m\u001b[0;34m\u001b[0m\u001b[0;34m\u001b[0m\u001b[0m\n",
            "\u001b[0;31mTypeError\u001b[0m: no numeric data to plot"
          ]
        }
      ],
      "execution_count": 6,
      "metadata": {
        "colab": {
          "base_uri": "https://localhost:8080/",
          "height": 356
        },
        "id": "2bqJgBb-d6ie",
        "outputId": "df9ae254-b36b-4415-ac61-c5f3bdfed281"
      }
    },
    {
      "cell_type": "markdown",
      "source": [
        "**4. Selección del orden del modelo ARIMA (p, d, q):**"
      ],
      "metadata": {
        "id": "TqvgqDYzd6ie"
      }
    },
    {
      "cell_type": "code",
      "source": [
        "# Función para la selección del orden del modelo ARIMA\n",
        "def auto_arima(serie):\n",
        "    \"\"\"\n",
        "    Función para la selección automática del orden del modelo ARIMA (p, d, q).\n",
        "\n",
        "    Parámetros:\n",
        "        serie: Serie temporal a analizar.\n",
        "\n",
        "    Retorno:\n",
        "        Modelo ARIMA con el orden (p, d, q) seleccionado.\n",
        "    \"\"\"\n",
        "    # Auto-ARIMA con estacionalidad\n",
        "    modelo_arima = sm.tsa.arima_model.ARMA季節性(serie, order=(0, 1, 2), seasonal_order=(0, 1, 1, 12))\n",
        "    # Ajuste del modelo\n",
        "    modelo_arima_fit = modelo_arima.fit()\n",
        "    # Retorno del modelo ajustado\n",
        "    return modelo_arima_fit\n",
        "\n",
        "# Selección del orden del modelo ARIMA\n",
        "modelo_arima_seleccionado = auto_arima(precios)\n",
        "\n",
        "# Resumen del modelo seleccionado\n",
        "print(modelo_arima_seleccionado.summary())"
      ],
      "outputs": [],
      "execution_count": null,
      "metadata": {
        "id": "dXgs_vShd6if"
      }
    },
    {
      "cell_type": "markdown",
      "source": [
        "**5. Entrenamiento del modelo ARIMA:**"
      ],
      "metadata": {
        "id": "DHiQPkeWd6if"
      }
    },
    {
      "cell_type": "code",
      "source": [
        "# Entrenamiento del modelo ARIMA seleccionado\n",
        "modelo_arima_entrenado = modelo_arima_seleccionado.fit()"
      ],
      "outputs": [],
      "execution_count": null,
      "metadata": {
        "id": "TFrNOpmSd6if"
      }
    },
    {
      "cell_type": "markdown",
      "source": [
        "**6. Pronóstico de precios para 2024-2030:**"
      ],
      "metadata": {
        "id": "dXcslbp6d6if"
      }
    },
    {
      "cell_type": "code",
      "source": [
        "# Definición del rango de tiempo para el pronóstico\n",
        "horizonte_pronostico = 84  # Pronóstico para 7 años (2024-2030), 12 trimestres por año\n",
        "\n",
        "# Pronóstico de precios\n",
        "pronostico_arima = modelo_arima_entrenado.forecast(steps=horizonte_pronostico)\n",
        "\n",
        "# Conversión del pronóstico a un DataFrame\n",
        "pronostico_df = pd.DataFrame(pronostico[0], columns=[\"Precio medio pronosticado\"])\n",
        "\n",
        "# Adición de fechas (trimestres) al DataFrame\n",
        "pronostico_df[\"Fecha\"] = pd.date_range(start=\"2024-01-01\", periods=horizonte_pronostico, freq=\"Q\")\n",
        "\n",
        "# Visualización del pronóstico\n",
        "pronostico_df.plot(x=\"Fecha\", y=\"Precio medio pronosticado\")"
      ],
      "outputs": [],
      "execution_count": null,
      "metadata": {
        "id": "ix_TLijGd6ig"
      }
    },
    {
      "cell_type": "markdown",
      "source": [
        "**7. Evaluación del modelo:**"
      ],
      "metadata": {
        "id": "V96Mg86vd6ig"
      }
    },
    {
      "cell_type": "code",
      "source": [
        "# Evaluación del modelo ARIMA\n",
        "# Se pueden utilizar métricas como el error cuadrático medio (MSE) o el error absoluto medio (MAE)"
      ],
      "outputs": [],
      "execution_count": null,
      "metadata": {
        "id": "YozNeMbRd6ig"
      }
    },
    {
      "cell_type": "markdown",
      "source": [
        "**Consideraciones adicionales:**\n",
        "\n",
        "* **Interpretación de los resultados del modelo ARIMA:** Es importante comprender los coeficientes del modelo y su interpretación estadística.\n",
        "* **Validación del modelo:** Se recomienda validar el modelo utilizando técnicas como la validación cruzada o la división de datos en entrenamiento y prueba.\n",
        "* **Incorporación de datos adicionales:** Si se dispone de datos adicionales, como indicadores económicos, demográficos o del mercado inmobiliario, se pueden incorporar al modelo para mejorar su precisión.\n",
        "\n",
        "**Recursos adicionales:**\n",
        "\n",
        "* **Librerías de Python para series temporales:**\n",
        "    * **Statsmodels:** [https://www.statsmodels.org/](https://www.statsmodels.org/)\n",
        "    * **PyTSA:** [https://github.com/QuantLet/pyTSA](https://github.com/QuantLet/pyTSA)\n",
        "    * **Prophet:** [https://github.com/facebook/prophet](https://github.com/facebook/prophet)\n",
        "* **Tutoriales sobre pronóstico de series temporales:**\n",
        "    * **Machine Learning Mastery:** [[https://machinelearningmastery.com/arima-for-time-series-forecasting-with-python/](https://machinelearningmastery.com/arima-for-time-series-forecasting-with-python/)"
      ],
      "metadata": {
        "id": "7bRV-OwMd6ig"
      }
    },
    {
      "cell_type": "markdown",
      "source": [
        "<div class=\"md-recitation\">\n",
        "  Sources\n",
        "  <ol>\n",
        "  <li><a href=\"https://www.vnsgu.ac.in/iqac/naac/c1/c13/c134/files/1uisnHCCNvBK7Xb3W8ErVU8m9al3WEeoq.pdf\">https://www.vnsgu.ac.in/iqac/naac/c1/c13/c134/files/1uisnHCCNvBK7Xb3W8ErVU8m9al3WEeoq.pdf</a></li>\n",
        "  </ol>\n",
        "</div>"
      ],
      "metadata": {
        "id": "M5zXND22d6ig"
      }
    }
  ],
  "metadata": {
    "colab": {
      "provenance": [],
      "include_colab_link": true
    },
    "kernelspec": {
      "display_name": "Python 3",
      "name": "python3"
    }
  },
  "nbformat": 4,
  "nbformat_minor": 0
}